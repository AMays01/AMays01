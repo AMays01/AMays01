{
  "nbformat": 4,
  "nbformat_minor": 0,
  "metadata": {
    "colab": {
      "name": "esg_ratings.ipynb",
      "provenance": [],
      "authorship_tag": "ABX9TyOHd2LtQf1UGv183O4KPU9V",
      "include_colab_link": true
    },
    "kernelspec": {
      "name": "python3",
      "display_name": "Python 3"
    },
    "language_info": {
      "name": "python"
    }
  },
  "cells": [
    {
      "cell_type": "markdown",
      "metadata": {
        "id": "view-in-github",
        "colab_type": "text"
      },
      "source": [
        "<a href=\"https://colab.research.google.com/github/AMays01/AMays01/blob/main/esg_ratings.ipynb\" target=\"_parent\"><img src=\"https://colab.research.google.com/assets/colab-badge.svg\" alt=\"Open In Colab\"/></a>"
      ]
    },
    {
      "cell_type": "code",
      "source": [
        "#installing yahoo finance library\n",
        "pip install yfinance\n"
      ],
      "metadata": {
        "id": "h0APCVS4NnLr"
      },
      "execution_count": null,
      "outputs": []
    },
    {
      "cell_type": "code",
      "source": [
        "pip install yesg"
      ],
      "metadata": {
        "id": "-7B3Q94fOSJg"
      },
      "execution_count": null,
      "outputs": []
    },
    {
      "cell_type": "code",
      "execution_count": 9,
      "metadata": {
        "id": "l_ed6VsNNkpr"
      },
      "outputs": [],
      "source": [
        "# import yfinance, pandas and os\n",
        "import yfinance as yf\n",
        "import pandas as pd\n",
        "import os\n",
        "import yesg"
      ]
    },
    {
      "cell_type": "code",
      "source": [
        "cola = \"KO\"\n",
        "cola_y = yf.Ticker(cola)\n",
        "esg_data = pd.DataFrame.transpose(cola_y.sustainability)\n",
        "esg_data['company_ticker'] = str(cola_y.ticker)"
      ],
      "metadata": {
        "id": "uNiIExoqNw27"
      },
      "execution_count": 4,
      "outputs": []
    },
    {
      "cell_type": "code",
      "source": [
        "esg_data"
      ],
      "metadata": {
        "colab": {
          "base_uri": "https://localhost:8080/",
          "height": 146
        },
        "id": "bdw_Y0QwOJIc",
        "outputId": "e1d31a37-a9c6-482b-92d4-69fbd28bdc06"
      },
      "execution_count": 7,
      "outputs": [
        {
          "output_type": "execute_result",
          "data": {
            "text/plain": [
              "2022-2 palmOil controversialWeapons gambling socialScore nuclear furLeather  \\\n",
              "Value    False                False    False        9.72   False      False   \n",
              "\n",
              "2022-2 alcoholic    gmo catholic socialPercentile  ...   coal pesticides  \\\n",
              "Value      False  False    False             None  ...  False      False   \n",
              "\n",
              "2022-2  adult percentile      peerGroup smallArms environmentScore  \\\n",
              "Value   False      32.62  Food Products     False             7.88   \n",
              "\n",
              "2022-2 governancePercentile militaryContract company_ticker  \n",
              "Value                  None            False             KO  \n",
              "\n",
              "[1 rows x 28 columns]"
            ],
            "text/html": [
              "\n",
              "  <div id=\"df-932ea4a8-b16c-4ea9-b65b-8b5d93043272\">\n",
              "    <div class=\"colab-df-container\">\n",
              "      <div>\n",
              "<style scoped>\n",
              "    .dataframe tbody tr th:only-of-type {\n",
              "        vertical-align: middle;\n",
              "    }\n",
              "\n",
              "    .dataframe tbody tr th {\n",
              "        vertical-align: top;\n",
              "    }\n",
              "\n",
              "    .dataframe thead th {\n",
              "        text-align: right;\n",
              "    }\n",
              "</style>\n",
              "<table border=\"1\" class=\"dataframe\">\n",
              "  <thead>\n",
              "    <tr style=\"text-align: right;\">\n",
              "      <th>2022-2</th>\n",
              "      <th>palmOil</th>\n",
              "      <th>controversialWeapons</th>\n",
              "      <th>gambling</th>\n",
              "      <th>socialScore</th>\n",
              "      <th>nuclear</th>\n",
              "      <th>furLeather</th>\n",
              "      <th>alcoholic</th>\n",
              "      <th>gmo</th>\n",
              "      <th>catholic</th>\n",
              "      <th>socialPercentile</th>\n",
              "      <th>...</th>\n",
              "      <th>coal</th>\n",
              "      <th>pesticides</th>\n",
              "      <th>adult</th>\n",
              "      <th>percentile</th>\n",
              "      <th>peerGroup</th>\n",
              "      <th>smallArms</th>\n",
              "      <th>environmentScore</th>\n",
              "      <th>governancePercentile</th>\n",
              "      <th>militaryContract</th>\n",
              "      <th>company_ticker</th>\n",
              "    </tr>\n",
              "  </thead>\n",
              "  <tbody>\n",
              "    <tr>\n",
              "      <th>Value</th>\n",
              "      <td>False</td>\n",
              "      <td>False</td>\n",
              "      <td>False</td>\n",
              "      <td>9.72</td>\n",
              "      <td>False</td>\n",
              "      <td>False</td>\n",
              "      <td>False</td>\n",
              "      <td>False</td>\n",
              "      <td>False</td>\n",
              "      <td>None</td>\n",
              "      <td>...</td>\n",
              "      <td>False</td>\n",
              "      <td>False</td>\n",
              "      <td>False</td>\n",
              "      <td>32.62</td>\n",
              "      <td>Food Products</td>\n",
              "      <td>False</td>\n",
              "      <td>7.88</td>\n",
              "      <td>None</td>\n",
              "      <td>False</td>\n",
              "      <td>KO</td>\n",
              "    </tr>\n",
              "  </tbody>\n",
              "</table>\n",
              "<p>1 rows × 28 columns</p>\n",
              "</div>\n",
              "      <button class=\"colab-df-convert\" onclick=\"convertToInteractive('df-932ea4a8-b16c-4ea9-b65b-8b5d93043272')\"\n",
              "              title=\"Convert this dataframe to an interactive table.\"\n",
              "              style=\"display:none;\">\n",
              "        \n",
              "  <svg xmlns=\"http://www.w3.org/2000/svg\" height=\"24px\"viewBox=\"0 0 24 24\"\n",
              "       width=\"24px\">\n",
              "    <path d=\"M0 0h24v24H0V0z\" fill=\"none\"/>\n",
              "    <path d=\"M18.56 5.44l.94 2.06.94-2.06 2.06-.94-2.06-.94-.94-2.06-.94 2.06-2.06.94zm-11 1L8.5 8.5l.94-2.06 2.06-.94-2.06-.94L8.5 2.5l-.94 2.06-2.06.94zm10 10l.94 2.06.94-2.06 2.06-.94-2.06-.94-.94-2.06-.94 2.06-2.06.94z\"/><path d=\"M17.41 7.96l-1.37-1.37c-.4-.4-.92-.59-1.43-.59-.52 0-1.04.2-1.43.59L10.3 9.45l-7.72 7.72c-.78.78-.78 2.05 0 2.83L4 21.41c.39.39.9.59 1.41.59.51 0 1.02-.2 1.41-.59l7.78-7.78 2.81-2.81c.8-.78.8-2.07 0-2.86zM5.41 20L4 18.59l7.72-7.72 1.47 1.35L5.41 20z\"/>\n",
              "  </svg>\n",
              "      </button>\n",
              "      \n",
              "  <style>\n",
              "    .colab-df-container {\n",
              "      display:flex;\n",
              "      flex-wrap:wrap;\n",
              "      gap: 12px;\n",
              "    }\n",
              "\n",
              "    .colab-df-convert {\n",
              "      background-color: #E8F0FE;\n",
              "      border: none;\n",
              "      border-radius: 50%;\n",
              "      cursor: pointer;\n",
              "      display: none;\n",
              "      fill: #1967D2;\n",
              "      height: 32px;\n",
              "      padding: 0 0 0 0;\n",
              "      width: 32px;\n",
              "    }\n",
              "\n",
              "    .colab-df-convert:hover {\n",
              "      background-color: #E2EBFA;\n",
              "      box-shadow: 0px 1px 2px rgba(60, 64, 67, 0.3), 0px 1px 3px 1px rgba(60, 64, 67, 0.15);\n",
              "      fill: #174EA6;\n",
              "    }\n",
              "\n",
              "    [theme=dark] .colab-df-convert {\n",
              "      background-color: #3B4455;\n",
              "      fill: #D2E3FC;\n",
              "    }\n",
              "\n",
              "    [theme=dark] .colab-df-convert:hover {\n",
              "      background-color: #434B5C;\n",
              "      box-shadow: 0px 1px 3px 1px rgba(0, 0, 0, 0.15);\n",
              "      filter: drop-shadow(0px 1px 2px rgba(0, 0, 0, 0.3));\n",
              "      fill: #FFFFFF;\n",
              "    }\n",
              "  </style>\n",
              "\n",
              "      <script>\n",
              "        const buttonEl =\n",
              "          document.querySelector('#df-932ea4a8-b16c-4ea9-b65b-8b5d93043272 button.colab-df-convert');\n",
              "        buttonEl.style.display =\n",
              "          google.colab.kernel.accessAllowed ? 'block' : 'none';\n",
              "\n",
              "        async function convertToInteractive(key) {\n",
              "          const element = document.querySelector('#df-932ea4a8-b16c-4ea9-b65b-8b5d93043272');\n",
              "          const dataTable =\n",
              "            await google.colab.kernel.invokeFunction('convertToInteractive',\n",
              "                                                     [key], {});\n",
              "          if (!dataTable) return;\n",
              "\n",
              "          const docLinkHtml = 'Like what you see? Visit the ' +\n",
              "            '<a target=\"_blank\" href=https://colab.research.google.com/notebooks/data_table.ipynb>data table notebook</a>'\n",
              "            + ' to learn more about interactive tables.';\n",
              "          element.innerHTML = '';\n",
              "          dataTable['output_type'] = 'display_data';\n",
              "          await google.colab.output.renderOutput(dataTable, element);\n",
              "          const docLink = document.createElement('div');\n",
              "          docLink.innerHTML = docLinkHtml;\n",
              "          element.appendChild(docLink);\n",
              "        }\n",
              "      </script>\n",
              "    </div>\n",
              "  </div>\n",
              "  "
            ]
          },
          "metadata": {},
          "execution_count": 7
        },
        {
          "output_type": "stream",
          "name": "stdout",
          "text": [
            "Warning: Total number of columns (28) exceeds max_columns (20) limiting to first (20) columns.\n"
          ]
        }
      ]
    },
    {
      "cell_type": "code",
      "source": [
        "# All available historic ESG rating for THE BOEING COMPANY\n",
        "print(yesg.get_historic_esg('IBM'))"
      ],
      "metadata": {
        "colab": {
          "base_uri": "https://localhost:8080/"
        },
        "id": "9uPsYRsQPsce",
        "outputId": "985c4ba9-a4d9-47b0-c14a-7efc71bab6f5"
      },
      "execution_count": 12,
      "outputs": [
        {
          "output_type": "stream",
          "name": "stdout",
          "text": [
            "            Total-Score  E-Score  S-Score  G-Score\n",
            "Date                                              \n",
            "2014-09-01        74.00    84.00    76.00    58.00\n",
            "2014-10-01        74.00    84.00    76.00    58.00\n",
            "2014-11-01        74.00    84.00    76.00    58.00\n",
            "2014-12-01        75.00    86.00    78.00    58.00\n",
            "2015-01-01        77.00    86.00    82.00    58.00\n",
            "...                 ...      ...      ...      ...\n",
            "2021-10-01          NaN      NaN      NaN      NaN\n",
            "2021-11-01          NaN      NaN      NaN      NaN\n",
            "2021-12-01          NaN      NaN      NaN      NaN\n",
            "2022-01-01          NaN      NaN      NaN      NaN\n",
            "2022-02-01        14.77     0.47     6.67     7.64\n",
            "\n",
            "[90 rows x 4 columns]\n"
          ]
        }
      ]
    },
    {
      "cell_type": "code",
      "source": [
        "# All sustainability information about THE BOEING COMPANY\n",
        "print(yesg.get_esg_full('BA').to_string())"
      ],
      "metadata": {
        "colab": {
          "base_uri": "https://localhost:8080/"
        },
        "id": "j96FSmAYP6ys",
        "outputId": "217fdbfb-2aae-43ee-d9fd-a57d1c22316e"
      },
      "execution_count": 13,
      "outputs": [
        {
          "output_type": "stream",
          "name": "stdout",
          "text": [
            "  Ticker Total-Score E-Score S-Score G-Score Last Rated ESG Performance           peer Group  Highest Controversy  peer Count  total Percentile environment Percentile social Percentile governance Percentile related Controversy  min peer ESG  avg peer ESG  max peer ESG  min peer Environment  avg peer Environment  max peer Environment  min peer Social  avg peer Social  max peer Social  min peer Governance  avg peer Governance  max peer Governance  min Highest Controversy  avg Highest Controversy  max Highest Controversy                   Controversial Business Areas\n",
            "0     BA        34.7     7.1    19.7     7.9   Feb 2022        OUT_PERF  Aerospace & Defense                  4.0          22             76.45                   None              None                  None  Customer Incidents         22.09     30.502727         39.09                  4.46                  7.87                 12.84            10.22        15.179048            19.72                 5.32             7.040952                 9.66                      0.0                 2.454545                      4.0  Controversial Weapons, Military Contracting, \n"
          ]
        }
      ]
    },
    {
      "cell_type": "code",
      "source": [
        ""
      ],
      "metadata": {
        "id": "xqve5nEfQWH5"
      },
      "execution_count": null,
      "outputs": []
    }
  ]
}